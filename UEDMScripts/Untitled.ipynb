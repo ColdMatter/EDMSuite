{
 "cells": [
  {
   "cell_type": "code",
   "execution_count": 19,
   "id": "178e8441-3a86-4c38-aa16-6665dfb44432",
   "metadata": {},
   "outputs": [
    {
     "data": {
      "text/plain": [
       "'20250127_150117'"
      ]
     },
     "execution_count": 19,
     "metadata": {},
     "output_type": "execute_result"
    }
   ],
   "source": [
    "from datetime import datetime\n",
    "datetime.now().strftime(\"%Y%m%d_%H%M%S\")"
   ]
  },
  {
   "cell_type": "code",
   "execution_count": 48,
   "id": "297d8468-58b7-4d44-8020-a4400aa47ed4",
   "metadata": {},
   "outputs": [
    {
     "ename": "FileNotFoundError",
     "evalue": "[WinError 3] The system cannot find the path specified: 'C:\\\\Users\\\\UEDM\\\\Imperial College London\\\\Team ultracold - PH - Documents\\\\Data\\\\2025-01\\\\20250127\\\\STIRAP_Script_Data'",
     "output_type": "error",
     "traceback": [
      "\u001b[1;31m---------------------------------------------------------------------------\u001b[0m",
      "\u001b[1;31mFileNotFoundError\u001b[0m                         Traceback (most recent call last)",
      "Cell \u001b[1;32mIn[48], line 5\u001b[0m\n\u001b[0;32m      3\u001b[0m directory_name \u001b[38;5;241m=\u001b[39m path\n\u001b[0;32m      4\u001b[0m \u001b[38;5;28;01mtry\u001b[39;00m:\n\u001b[1;32m----> 5\u001b[0m     \u001b[43mos\u001b[49m\u001b[38;5;241;43m.\u001b[39;49m\u001b[43mmkdir\u001b[49m\u001b[43m(\u001b[49m\u001b[43mdirectory_name\u001b[49m\u001b[43m)\u001b[49m\n\u001b[0;32m      6\u001b[0m     \u001b[38;5;28mprint\u001b[39m(\u001b[38;5;124mf\u001b[39m\u001b[38;5;124m\"\u001b[39m\u001b[38;5;124mDirectory \u001b[39m\u001b[38;5;124m'\u001b[39m\u001b[38;5;132;01m{\u001b[39;00mdirectory_name\u001b[38;5;132;01m}\u001b[39;00m\u001b[38;5;124m'\u001b[39m\u001b[38;5;124m created successfully.\u001b[39m\u001b[38;5;124m\"\u001b[39m)\n\u001b[0;32m      7\u001b[0m \u001b[38;5;28;01mexcept\u001b[39;00m \u001b[38;5;167;01mFileExistsError\u001b[39;00m:\n",
      "\u001b[1;31mFileNotFoundError\u001b[0m: [WinError 3] The system cannot find the path specified: 'C:\\\\Users\\\\UEDM\\\\Imperial College London\\\\Team ultracold - PH - Documents\\\\Data\\\\2025-01\\\\20250127\\\\STIRAP_Script_Data'"
     ]
    }
   ],
   "source": [
    "import os\n",
    "path = r\"C:\\Users\\UEDM\\Imperial College London\\Team ultracold - PH - Documents\\Data\\2025-01\\20250127\\STIRAP_Script_Data\"\n",
    "directory_name = path\n",
    "try:\n",
    "    os.mkdir(directory_name)\n",
    "    print(f\"Directory '{directory_name}' created successfully.\")\n",
    "except FileExistsError:\n",
    "    print(f\"Directory '{directory_name}' already exists.\")"
   ]
  },
  {
   "cell_type": "code",
   "execution_count": 38,
   "id": "383382ac-ee59-4751-8b8b-770481e2e79f",
   "metadata": {},
   "outputs": [],
   "source": [
    "path = r\"C:/Users/UEDM/Imperial College London/Team ultracold - PH - Documents/Data/\" + datetime.now().strftime(\"%Y%m%d\") + \"/STIRAP_Script_Data\""
   ]
  },
  {
   "cell_type": "code",
   "execution_count": 39,
   "id": "d2fb2eb1-399f-496f-9fd6-3d4e2fc9deb9",
   "metadata": {},
   "outputs": [
    {
     "name": "stdout",
     "output_type": "stream",
     "text": [
      "C:/Users/UEDM/Imperial College London/Team ultracold - PH - Documents/Data/20250127/STIRAP_Script_Data\n"
     ]
    }
   ],
   "source": [
    "print(path)"
   ]
  },
  {
   "cell_type": "code",
   "execution_count": null,
   "id": "66045a58-8886-4711-93b3-41aae607984e",
   "metadata": {},
   "outputs": [],
   "source": []
  }
 ],
 "metadata": {
  "kernelspec": {
   "display_name": "Python 3 (ipykernel)",
   "language": "python",
   "name": "python3"
  },
  "language_info": {
   "codemirror_mode": {
    "name": "ipython",
    "version": 3
   },
   "file_extension": ".py",
   "mimetype": "text/x-python",
   "name": "python",
   "nbconvert_exporter": "python",
   "pygments_lexer": "ipython3",
   "version": "3.9.19"
  }
 },
 "nbformat": 4,
 "nbformat_minor": 5
}
